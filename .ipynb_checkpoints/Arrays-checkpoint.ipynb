{
 "cells": [
  {
   "cell_type": "markdown",
   "id": "dc91f130",
   "metadata": {},
   "source": [
    "# Arrays"
   ]
  },
  {
   "cell_type": "markdown",
   "id": "bcc63760",
   "metadata": {},
   "source": [
    "## Contains Duplicate "
   ]
  },
  {
   "cell_type": "code",
   "execution_count": 2,
   "id": "68e36369",
   "metadata": {},
   "outputs": [],
   "source": [
    "def containsDuplicate(nums):\n",
    "    return len(nums)!= len(set(nums))"
   ]
  },
  {
   "cell_type": "code",
   "execution_count": 3,
   "id": "565ade19",
   "metadata": {},
   "outputs": [
    {
     "data": {
      "text/plain": [
       "True"
      ]
     },
     "execution_count": 3,
     "metadata": {},
     "output_type": "execute_result"
    }
   ],
   "source": [
    "nums = [1,2,3,4,2,2]\n",
    "containsDuplicate(nums)"
   ]
  },
  {
   "cell_type": "code",
   "execution_count": null,
   "id": "7fd94283",
   "metadata": {},
   "outputs": [],
   "source": [
    "#best solution approach \n",
    "# class Solution(object):\n",
    "#     def containsDuplicate(self, nums):\n",
    "#         \"\"\"\n",
    "#         :type nums: List[int]\n",
    "#         :rtype: bool\n",
    "#         \"\"\"\n",
    "        \n",
    "#         set_nums = set()\n",
    "#         for i in nums:\n",
    "#             if i not in set_nums:\n",
    "#                 set_nums.add(i)\n",
    "#             else:\n",
    "#                 return True\n",
    "#         return False\n",
    "                "
   ]
  }
 ],
 "metadata": {
  "kernelspec": {
   "display_name": "Python 3 (ipykernel)",
   "language": "python",
   "name": "python3"
  },
  "language_info": {
   "codemirror_mode": {
    "name": "ipython",
    "version": 3
   },
   "file_extension": ".py",
   "mimetype": "text/x-python",
   "name": "python",
   "nbconvert_exporter": "python",
   "pygments_lexer": "ipython3",
   "version": "3.9.7"
  }
 },
 "nbformat": 4,
 "nbformat_minor": 5
}
