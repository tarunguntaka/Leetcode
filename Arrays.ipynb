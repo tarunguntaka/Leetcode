{
 "cells": [
  {
   "cell_type": "markdown",
   "id": "dc91f130",
   "metadata": {},
   "source": [
    "# Arrays"
   ]
  },
  {
   "cell_type": "markdown",
   "id": "bcc63760",
   "metadata": {},
   "source": [
    "## Contains Duplicate "
   ]
  },
  {
   "cell_type": "code",
   "execution_count": 2,
   "id": "68e36369",
   "metadata": {},
   "outputs": [],
   "source": [
    "def containsDuplicate(nums):\n",
    "    return len(nums)!= len(set(nums))"
   ]
  },
  {
   "cell_type": "code",
   "execution_count": 3,
   "id": "565ade19",
   "metadata": {},
   "outputs": [
    {
     "data": {
      "text/plain": [
       "True"
      ]
     },
     "execution_count": 3,
     "metadata": {},
     "output_type": "execute_result"
    }
   ],
   "source": [
    "nums = [1,2,3,4,2,2]\n",
    "containsDuplicate(nums)"
   ]
  },
  {
   "cell_type": "code",
   "execution_count": 1,
   "id": "7fd94283",
   "metadata": {},
   "outputs": [],
   "source": [
    "#best solution approach \n",
    "# class Solution(object):\n",
    "#     def containsDuplicate(self, nums):\n",
    "#         \"\"\"\n",
    "#         :type nums: List[int]\n",
    "#         :rtype: bool\n",
    "#         \"\"\"\n",
    "        \n",
    "#         set_nums = set()\n",
    "#         for i in nums:\n",
    "#             if i not in set_nums:\n",
    "#                 set_nums.add(i)\n",
    "#             else:\n",
    "#                 return True\n",
    "#         return False\n",
    "                "
   ]
  },
  {
   "cell_type": "markdown",
   "id": "6d1cf4fd",
   "metadata": {},
   "source": [
    "## Missing Number"
   ]
  },
  {
   "cell_type": "markdown",
   "id": "00f41499",
   "metadata": {},
   "source": [
    "### Given an array nums containing n distinct numbers in the range [0, n], return the only number in the range that is missing from the array."
   ]
  },
  {
   "cell_type": "code",
   "execution_count": 2,
   "id": "279c0b6b",
   "metadata": {},
   "outputs": [],
   "source": [
    "def missingNumber(nums):\n",
    "    a = set(range(0,len(nums)+1))\n",
    "    for i in a:\n",
    "        if i not in nums:\n",
    "            return i\n",
    "            \n",
    "            "
   ]
  },
  {
   "cell_type": "code",
   "execution_count": 3,
   "id": "55af7dd7",
   "metadata": {},
   "outputs": [
    {
     "data": {
      "text/plain": [
       "2"
      ]
     },
     "execution_count": 3,
     "metadata": {},
     "output_type": "execute_result"
    }
   ],
   "source": [
    "nums = [3,0,1]\n",
    "missingNumber(nums)"
   ]
  },
  {
   "cell_type": "code",
   "execution_count": 4,
   "id": "bd3ac922",
   "metadata": {},
   "outputs": [],
   "source": [
    "#best solution\n",
    " #return ((len(nums)*(len(nums)+1))//2)-sum(nums)"
   ]
  },
  {
   "cell_type": "markdown",
   "id": "f5ae79c7",
   "metadata": {},
   "source": [
    "## Find All Numbers Disappeared in an Array"
   ]
  },
  {
   "cell_type": "markdown",
   "id": "229842cc",
   "metadata": {},
   "source": [
    "### Given an array nums of n integers where nums[i] is in the range [1, n], return an array of all the integers in the range [1, n] that do not appear in nums."
   ]
  },
  {
   "cell_type": "code",
   "execution_count": 7,
   "id": "f6430089",
   "metadata": {},
   "outputs": [],
   "source": [
    "def findDisappearedNumbers(nums):\n",
    "    #a = set(range(1,len(nums)+1))\n",
    "    out=[]\n",
    "    for i in range(1,len(nums)+1):\n",
    "        if i not in set(nums):\n",
    "            out.append(i)\n",
    "    return out\n",
    "        \n",
    "    \n",
    "    \n",
    "    "
   ]
  },
  {
   "cell_type": "code",
   "execution_count": 8,
   "id": "da1f8489",
   "metadata": {},
   "outputs": [
    {
     "data": {
      "text/plain": [
       "[5, 6]"
      ]
     },
     "execution_count": 8,
     "metadata": {},
     "output_type": "execute_result"
    }
   ],
   "source": [
    "nums = [4,3,2,7,8,2,3,1]\n",
    "findDisappearedNumbers(nums)"
   ]
  },
  {
   "cell_type": "code",
   "execution_count": null,
   "id": "a1cc8748",
   "metadata": {},
   "outputs": [],
   "source": []
  }
 ],
 "metadata": {
  "kernelspec": {
   "display_name": "Python 3 (ipykernel)",
   "language": "python",
   "name": "python3"
  },
  "language_info": {
   "codemirror_mode": {
    "name": "ipython",
    "version": 3
   },
   "file_extension": ".py",
   "mimetype": "text/x-python",
   "name": "python",
   "nbconvert_exporter": "python",
   "pygments_lexer": "ipython3",
   "version": "3.9.7"
  }
 },
 "nbformat": 4,
 "nbformat_minor": 5
}
